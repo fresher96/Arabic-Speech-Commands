{
 "cells": [
  {
   "cell_type": "code",
   "execution_count": 6,
   "metadata": {
    "scrolled": false
   },
   "outputs": [
    {
     "ename": "ValueError",
     "evalue": "attempted relative import beyond top-level package",
     "output_type": "error",
     "traceback": [
      "\u001b[1;31m---------------------------------------------------------------------------\u001b[0m",
      "\u001b[1;31mValueError\u001b[0m                                Traceback (most recent call last)",
      "\u001b[1;32m<ipython-input-6-fbbe89a1ea44>\u001b[0m in \u001b[0;36m<module>\u001b[1;34m\u001b[0m\n\u001b[1;32m----> 1\u001b[1;33m \u001b[1;32mfrom\u001b[0m \u001b[1;33m.\u001b[0m\u001b[1;33m.\u001b[0m\u001b[0msrc\u001b[0m\u001b[1;33m.\u001b[0m\u001b[0mconfigs\u001b[0m \u001b[1;32mimport\u001b[0m \u001b[0mset_defaults\u001b[0m\u001b[1;33m\u001b[0m\u001b[0m\n\u001b[0m\u001b[0;32m      2\u001b[0m \u001b[1;32mfrom\u001b[0m \u001b[0msrc\u001b[0m\u001b[1;33m.\u001b[0m\u001b[0mdata\u001b[0m \u001b[1;32mimport\u001b[0m \u001b[0mget_dataloader\u001b[0m\u001b[1;33m\u001b[0m\u001b[0m\n\u001b[0;32m      3\u001b[0m \u001b[1;32mfrom\u001b[0m \u001b[0msrc\u001b[0m\u001b[1;33m.\u001b[0m\u001b[0mtrainer\u001b[0m \u001b[1;32mimport\u001b[0m \u001b[0mModelTrainer\u001b[0m\u001b[1;33m\u001b[0m\u001b[0m\n\u001b[0;32m      4\u001b[0m \u001b[1;32mfrom\u001b[0m \u001b[0msrc\u001b[0m\u001b[1;33m.\u001b[0m\u001b[0mmodel\u001b[0m \u001b[1;32mimport\u001b[0m \u001b[1;33m*\u001b[0m\u001b[1;33m\u001b[0m\u001b[0m\n\u001b[0;32m      5\u001b[0m \u001b[1;32mfrom\u001b[0m \u001b[0msrc\u001b[0m\u001b[1;33m.\u001b[0m\u001b[0mtransforms\u001b[0m \u001b[1;32mimport\u001b[0m \u001b[1;33m*\u001b[0m\u001b[1;33m\u001b[0m\u001b[0m\n",
      "\u001b[1;31mValueError\u001b[0m: attempted relative import beyond top-level package"
     ]
    }
   ],
   "source": [
    "from ..src.configs import set_defaults\n",
    "from src.data import get_dataloader\n",
    "from src.trainer import ModelTrainer\n",
    "from src.model import *\n",
    "from src.transforms import *"
   ]
  },
  {
   "cell_type": "code",
   "execution_count": 14,
   "metadata": {
    "pycharm": {
     "name": "#%%\n"
    }
   },
   "outputs": [
    {
     "name": "stderr",
     "output_type": "stream",
     "text": [
      "usage: ipykernel_launcher.py [-h] [--comet_key COMET_KEY]\n",
      "                             [--comet_project COMET_PROJECT]\n",
      "                             [--comet_workspace COMET_WORKSPACE]\n",
      "                             [--data_root DATA_ROOT] [--signal_sr SIGNAL_SR]\n",
      "                             [--signal_len SIGNAL_LEN] [--nsilence NSILENCE]\n",
      "                             [--features_name FEATURES_NAME] [--nfilt NFILT]\n",
      "                             [--winlen WINLEN] [--winstep WINSTEP]\n",
      "                             [--nfft NFFT] [--preemph PREEMPH]\n",
      "                             [--ceplifter CEPLIFTER] [--numcep NUMCEP]\n",
      "                             [--scale_min SCALE_MIN] [--scale_max SCALE_MAX]\n",
      "                             [--shift_min SHIFT_MIN] [--shift_max SHIFT_MAX]\n",
      "                             [--noise_vol NOISE_VOL] [--name NAME]\n",
      "                             [--outf OUTF] [--seed SEED] [--frq_log FRQ_LOG]\n",
      "                             [--debug DEBUG] [--test]\n",
      "                             [--weights_path WEIGHTS_PATH]\n",
      "                             [--weight_decay WEIGHT_DECAY] [--nepoch NEPOCH]\n",
      "                             [--batchsize BATCHSIZE] [--metric METRIC]\n",
      "                             [--lr LR] [--momentum MOMENTUM] [--beta1 BETA1]\n",
      "                             [--optimizer OPTIMIZER] [--scheduler SCHEDULER]\n",
      "                             [--model MODEL] [--dropout DROPOUT]\n",
      "                             [--nlayer NLAYER] [--nchannel NCHANNEL]\n",
      "                             [--res_pool RES_POOL] [--use_dilation]\n",
      "ipykernel_launcher.py: error: unrecognized arguments: -f C:\\Users\\FH\\AppData\\Roaming\\jupyter\\runtime\\kernel-74bcfb27-544a-428a-8e3c-ce5f0eae5fae.json\n"
     ]
    },
    {
     "ename": "SystemExit",
     "evalue": "2",
     "output_type": "error",
     "traceback": [
      "An exception has occurred, use %tb to see the full traceback.\n",
      "\u001b[1;31mSystemExit\u001b[0m\u001b[1;31m:\u001b[0m 2\n"
     ]
    }
   ],
   "source": [
    "args = set_defaults()\n",
    "\n"
   ]
  }
 ],
 "metadata": {
  "kernelspec": {
   "display_name": "Python 3",
   "language": "python",
   "name": "python3"
  }
 },
 "nbformat": 4,
 "nbformat_minor": 1
}
