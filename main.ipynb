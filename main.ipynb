{
 "cells": [
  {
   "cell_type": "code",
   "execution_count": 3,
   "metadata": {
    "scrolled": true
   },
   "outputs": [],
   "source": [
    "from src.configs import set_defaults"
   ]
  },
  {
   "cell_type": "code",
   "execution_count": 4,
   "metadata": {},
   "outputs": [
    {
     "name": "stdout",
     "output_type": "stream",
     "text": [
      "Namespace(batchsize=8, beta1=0.9, ceplifter=22, comet_key='', comet_project='', comet_workspace='', data_root='.', debug=128, dropout=0.5, features_name='ta.MFCC', frq_log=2, lr=0.01, metric='acc', model='LogisticRegression', momentum=0.9, name='untitled', nchannel=19, nepoch=10, nfft=512, nfilt=40, nlayer=8, noise_vol=0.25, nsilence=-1, numcep=13, optimizer='sgd', outf='./output', preemph=0.97, res_pool=(1, 1), scale_max=1.2, scale_min=0.8, scheduler='none', seed=-1, shift_max=0.3, shift_min=-0.3, signal_len=1, signal_sr=16000, test=False, use_dilation=False, weight_decay=1e-05, weights_path=None, winlen=0.025, winstep=0.01)\n"
     ]
    }
   ],
   "source": [
    "args = set_defaults();\n",
    "args.batchsize = 8\n",
    "print(args)"
   ]
  }
 ],
 "metadata": {
  "kernelspec": {
   "display_name": "Python 3",
   "language": "python",
   "name": "python3"
  },
  "language_info": {
   "codemirror_mode": {
    "name": "ipython",
    "version": 3
   },
   "file_extension": ".py",
   "mimetype": "text/x-python",
   "name": "python",
   "nbconvert_exporter": "python",
   "pygments_lexer": "ipython3",
   "version": "3.6.5"
  }
 },
 "nbformat": 4,
 "nbformat_minor": 4
}