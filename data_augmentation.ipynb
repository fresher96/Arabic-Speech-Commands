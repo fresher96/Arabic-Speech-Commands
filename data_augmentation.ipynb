{
 "cells": [
  {
   "cell_type": "code",
   "execution_count": null,
   "metadata": {
    "pycharm": {
     "is_executing": true
    },
    "scrolled": true
   },
   "outputs": [],
   "source": [
    "import os\n",
    "from src.configs import set_defaults\n",
    "from src.transforms import AddNoise, TimeShifting, TimeScaling\n",
    "from src.load import load_data\n",
    "from src.utils import get_noise_files\n",
    "import matplotlib.pyplot as plt\n",
    "import IPython.display as ipd"
   ]
  },
  {
   "cell_type": "code",
   "execution_count": 3,
   "metadata": {},
   "outputs": [],
   "source": [
    "args = set_defaults()\n",
    "\n",
    "args.data_root = '../Paper/1/Arabic_Speech_Commands_Dataset'\n",
    "class_name = 'rotate'\n",
    "file_name = '00000020_NO_07.wav'\n",
    "signal_samples = args.signal_len * args.signal_sr"
   ]
  },
  {
   "cell_type": "code",
   "execution_count": 2,
   "metadata": {},
   "outputs": [],
   "source": [
    "signal = load_data(class_name, file_name, signal_samples, args.data_root, args.signal_sr)\n",
    "plt.plot(signal)\n",
    "ipd.Audio(signal, rate=args.signal_sr)"
   ]
  },
  {
   "cell_type": "code",
   "execution_count": 3,
   "metadata": {},
   "outputs": [],
   "source": [
    "time_scaling = TimeScaling(args.scale_min, args.scale_max)\n",
    "scaled_signal = time_scaling(signal)\n",
    "\n",
    "plt.plot(scaled_signal)\n",
    "ipd.Audio(scaled_signal, rate=args.signal_sr)"
   ]
  },
  {
   "cell_type": "code",
   "execution_count": 4,
   "metadata": {},
   "outputs": [],
   "source": [
    "time_shifting = TimeShifting(args.shift_min, args.shift_max)\n",
    "shifted_signal = time_shifting(scaled_signal)\n",
    "\n",
    "plt.plot(shifted_signal)\n",
    "ipd.Audio(shifted_signal, rate=args.signal_sr)"
   ]
  },
  {
   "cell_type": "code",
   "execution_count": 5,
   "metadata": {},
   "outputs": [],
   "source": [
    "bkg_noise_path = os.path.join(args.data_root, 'background_noise')\n",
    "noise_files, noise_probability_distribution = get_noise_files(bkg_noise_path, args.signal_sr)\n",
    "\n",
    "add_noise = AddNoise(noise_files, noise_probability_distribution, args.noise_vol,\n",
    "                     signal_samples, args.data_root, args.signal_sr)\n",
    "\n",
    "noisy_signal = add_noise(shifted_signal)\n",
    "plt.plot(noisy_signal)\n",
    "ipd.Audio(noisy_signal, rate=args.signal_sr)"
   ]
  },
  {
   "cell_type": "code",
   "execution_count": null,
   "metadata": {},
   "outputs": [],
   "source": []
  }
 ],
 "metadata": {
  "kernelspec": {
   "display_name": "Python 3",
   "language": "python",
   "name": "python3"
  },
  "language_info": {
   "codemirror_mode": {
    "name": "ipython",
    "version": 3
   },
   "file_extension": ".py",
   "mimetype": "text/x-python",
   "name": "python",
   "nbconvert_exporter": "python",
   "pygments_lexer": "ipython3",
   "version": "3.6.5"
  }
 },
 "nbformat": 4,
 "nbformat_minor": 4
}