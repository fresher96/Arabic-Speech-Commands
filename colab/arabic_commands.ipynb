{
  "nbformat": 4,
  "nbformat_minor": 0,
  "metadata": {
    "colab": {
      "name": "arabic-commands.ipynb",
      "provenance": [],
      "collapsed_sections": [],
      "authorship_tag": "ABX9TyNUlZY1mV3Uyf8adGC6+Lav",
      "include_colab_link": true
    },
    "kernelspec": {
      "name": "python3",
      "display_name": "Python 3"
    },
    "accelerator": "GPU"
  },
  "cells": [
    {
      "cell_type": "markdown",
      "metadata": {
        "id": "view-in-github",
        "colab_type": "text"
      },
      "source": [
        "<a href=\"https://colab.research.google.com/github/fresher96/arabic-speech-commands/blob/master/colab/arabic_commands.ipynb\" target=\"_parent\"><img src=\"https://colab.research.google.com/assets/colab-badge.svg\" alt=\"Open In Colab\"/></a>"
      ]
    },
    {
      "cell_type": "code",
      "metadata": {
        "id": "nDC170sjKxO1",
        "colab_type": "code",
        "colab": {
          "base_uri": "https://localhost:8080/",
          "height": 164
        },
        "outputId": "a0bd26d0-4f5e-4eb7-b74a-583409d07244"
      },
      "source": [
        "!git clone https://github.com/abdulkaderghandoura/arabic-speech-commands-dataset.git dataroot"
      ],
      "execution_count": 1,
      "outputs": [
        {
          "output_type": "stream",
          "text": [
            "Cloning into 'dataroot'...\n",
            "remote: Enumerating objects: 1513, done.\u001b[K\n",
            "remote: Counting objects: 100% (1513/1513), done.\u001b[K\n",
            "remote: Compressing objects: 100% (1512/1512), done.\u001b[K\n",
            "remote: Total 12086 (delta 2), reused 1511 (delta 1), pack-reused 10573\u001b[K\n",
            "Receiving objects: 100% (12086/12086), 328.10 MiB | 10.31 MiB/s, done.\n",
            "Resolving deltas: 100% (16/16), done.\n",
            "Checking out files: 100% (12013/12013), done.\n"
          ],
          "name": "stdout"
        }
      ]
    },
    {
      "cell_type": "code",
      "metadata": {
        "id": "LDlbvP5oRyl-",
        "colab_type": "code",
        "colab": {}
      },
      "source": [
        "%cd /content\n",
        "!rm -r code\n",
        "!git clone https://github.com/fresher96/arabic-speech-commands.git code\n",
        "%cd code\n",
        "!pip install -r requirements.txt"
      ],
      "execution_count": null,
      "outputs": []
    },
    {
      "cell_type": "code",
      "metadata": {
        "id": "Km2Uo_lztoqD",
        "colab_type": "code",
        "colab": {
          "base_uri": "https://localhost:8080/",
          "height": 35
        },
        "outputId": "d2e05815-bbee-41cb-f12c-20597886abb7"
      },
      "source": [
        "!git pull"
      ],
      "execution_count": 6,
      "outputs": [
        {
          "output_type": "stream",
          "text": [
            "Already up to date.\n"
          ],
          "name": "stdout"
        }
      ]
    },
    {
      "cell_type": "code",
      "metadata": {
        "id": "ADTmWO-cURf6",
        "colab_type": "code",
        "colab": {}
      },
      "source": [
        "!python main.py \\\n",
        "    --comet_key 'bLjz3xx3gKDZwM7Hm0Kcgbpww' --comet_project 'arabic-commands' --comet_workspace 'fresher96' \\\n",
        "    --data_root ../dataroot \\\n",
        "    --debug -1 \\\n",
        "    --test \\\n",
        "    \\\n",
        "    --nfilt 40 \\\n",
        "    --numcep 13 \\\n",
        "    \\\n",
        "    --weight_decay 1e-3 \\\n",
        "    --nepoch 75 \\\n",
        "    --batchsize 32 \\\n",
        "    --lr 0.001 \\\n",
        "    --optimizer adam \\\n",
        "    --scheduler auto \\\n",
        "    \\\n",
        "    --name CNN-MFCC_final \\\n",
        "    --features_name MFCCs \\\n",
        "    --model CNN \\\n",
        "    --dropout 0.25 \\"
      ],
      "execution_count": null,
      "outputs": []
    }
  ]
}