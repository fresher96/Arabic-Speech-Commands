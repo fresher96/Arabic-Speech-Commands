{
  "nbformat": 4,
  "nbformat_minor": 0,
  "metadata": {
    "colab": {
      "name": "arabic-commands.ipynb",
      "provenance": [],
      "collapsed_sections": [],
      "authorship_tag": "ABX9TyMQytKj39/A+nude2YuvcLu",
      "include_colab_link": true
    },
    "kernelspec": {
      "name": "python3",
      "display_name": "Python 3"
    },
    "accelerator": "GPU"
  },
  "cells": [
    {
      "cell_type": "markdown",
      "metadata": {
        "id": "view-in-github",
        "colab_type": "text"
      },
      "source": [
        "<a href=\"https://colab.research.google.com/github/fresher96/arabic-speech-commands/blob/master/colab/arabic_commands.ipynb\" target=\"_parent\"><img src=\"https://colab.research.google.com/assets/colab-badge.svg\" alt=\"Open In Colab\"/></a>"
      ]
    },
    {
      "cell_type": "code",
      "metadata": {
        "id": "nDC170sjKxO1"
      },
      "source": [
        "!git clone https://github.com/abdulkaderghandoura/arabic-speech-commands-dataset.git dataroot"
      ],
      "execution_count": null,
      "outputs": []
    },
    {
      "cell_type": "code",
      "metadata": {
        "id": "LDlbvP5oRyl-"
      },
      "source": [
        "%cd /content\n",
        "!rm -r code\n",
        "!git clone https://github.com/fresher96/arabic-speech-commands.git code\n",
        "%cd code\n",
        "!pip install -r requirements.txt"
      ],
      "execution_count": null,
      "outputs": []
    },
    {
      "cell_type": "code",
      "metadata": {
        "id": "Km2Uo_lztoqD"
      },
      "source": [
        "!git pull"
      ],
      "execution_count": null,
      "outputs": []
    },
    {
      "cell_type": "code",
      "metadata": {
        "id": "ADTmWO-cURf6"
      },
      "source": [
        "!python main.py \\\n",
        "    --comet_key '' --comet_project '' --comet_workspace '' \\\n",
        "    --data_root ../dataroot \\\n",
        "    --debug -1 \\\n",
        "    --test \\\n",
        "    \\\n",
        "    --nfilt 40 \\\n",
        "    --numcep 13 \\\n",
        "    \\\n",
        "    --weight_decay 1e-3 \\\n",
        "    --nepoch 75 \\\n",
        "    --batchsize 32 \\\n",
        "    --lr 0.001 \\\n",
        "    --optimizer adam \\\n",
        "    --scheduler auto \\\n",
        "    \\\n",
        "    --name CNN-MFCC_final \\\n",
        "    --features_name MFCCs \\\n",
        "    --model CNN \\\n",
        "    --dropout 0.25 \\"
      ],
      "execution_count": null,
      "outputs": []
    }
  ]
}