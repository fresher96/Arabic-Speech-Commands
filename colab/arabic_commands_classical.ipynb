{
  "nbformat": 4,
  "nbformat_minor": 0,
  "metadata": {
    "colab": {
      "name": "arabic-commands-classical.ipynb",
      "provenance": [],
      "collapsed_sections": [
        "egyqFzf73Ovv",
        "Gd2aBgBg9Mhw",
        "24x7kfWb9VBb",
        "Gp99bXnU-S1j",
        "OotZ_JVMcfTI",
        "HtE0qqN7rgXo"
      ],
      "toc_visible": true,
      "authorship_tag": "ABX9TyN3lsVTHC7topywg2OcXOYE",
      "include_colab_link": true
    },
    "kernelspec": {
      "name": "python3",
      "display_name": "Python 3"
    }
  },
  "cells": [
    {
      "cell_type": "markdown",
      "metadata": {
        "id": "view-in-github",
        "colab_type": "text"
      },
      "source": [
        "<a href=\"https://colab.research.google.com/github/fresher96/arabic-speech-commands/blob/master/colab/arabic_commands_classical.ipynb\" target=\"_parent\"><img src=\"https://colab.research.google.com/assets/colab-badge.svg\" alt=\"Open In Colab\"/></a>"
      ]
    },
    {
      "cell_type": "markdown",
      "metadata": {
        "id": "egyqFzf73Ovv",
        "colab_type": "text"
      },
      "source": [
        "###### Data Preparation"
      ]
    },
    {
      "cell_type": "code",
      "metadata": {
        "id": "coA7S7diTkYK",
        "colab_type": "code",
        "colab": {
          "base_uri": "https://localhost:8080/"
        },
        "outputId": "22d9b970-da75-4c94-9b44-366eeb33581a"
      },
      "source": [
        "from google_drive_downloader import GoogleDriveDownloader\n",
        "\n",
        "# Link: https://drive.google.com/file/d/1-LwzGIEsPr28kmt8TbSEn9vlQq4vosvQ/view?usp=sharing\n",
        "\n",
        "GoogleDriveDownloader.download_file_from_google_drive(\n",
        "                                    file_id='1-LwzGIEsPr28kmt8TbSEn9vlQq4vosvQ',\n",
        "                                    dest_path='./ASC.rar')\n",
        "!mkdir dataroot; cd dataroot; unrar x ../ASC.rar > /dev/null"
      ],
      "execution_count": null,
      "outputs": [
        {
          "output_type": "stream",
          "text": [
            "Downloading 1-LwzGIEsPr28kmt8TbSEn9vlQq4vosvQ into ./ASC.rar... Done.\n"
          ],
          "name": "stdout"
        }
      ]
    },
    {
      "cell_type": "code",
      "metadata": {
        "id": "jqPNL1qIXqps",
        "colab_type": "code",
        "colab": {}
      },
      "source": [
        "import pandas as pd\n",
        "import numpy as np\n",
        "import matplotlib.pyplot as plt\n",
        "import sklearn\n",
        "\n",
        "data_root = './dataroot/'\n",
        "complement = '_featuers.csv'\n",
        "splits = ['train', 'val', 'test']"
      ],
      "execution_count": null,
      "outputs": []
    },
    {
      "cell_type": "code",
      "metadata": {
        "id": "vP7C70xoX-by",
        "colab_type": "code",
        "colab": {
          "base_uri": "https://localhost:8080/"
        },
        "outputId": "597e1b77-a4d1-4611-fc39-31abde89fa4a"
      },
      "source": [
        "df = {}\n",
        "X = {}\n",
        "y = {}\n",
        "for split in splits:\n",
        "    df[split] = pd.read_csv(data_root + split + complement)\n",
        "    print(split, df[split].shape)\n",
        "    X[split] = df[split].iloc[:, :-1]\n",
        "    y[split] = df[split].iloc[:, -1]"
      ],
      "execution_count": null,
      "outputs": [
        {
          "output_type": "stream",
          "text": [
            "train (7380, 1189)\n",
            "val (2460, 1189)\n",
            "test (2460, 1189)\n"
          ],
          "name": "stdout"
        }
      ]
    },
    {
      "cell_type": "code",
      "metadata": {
        "id": "KDu2SwY5Hc1f",
        "colab_type": "code",
        "colab": {}
      },
      "source": [
        "from sklearn.model_selection import PredefinedSplit, RandomizedSearchCV\n",
        "\n",
        "X['train_val'] = X['train'].append(X['val'], ignore_index=True)\n",
        "y['train_val'] = y['train'].append(y['val'], ignore_index=True)\n",
        "split_index = [-1 if i < len(X['train']) else 0 for i in range(len(X['train_val']))]\n",
        "pdsplit = PredefinedSplit(test_fold = split_index)"
      ],
      "execution_count": null,
      "outputs": []
    },
    {
      "cell_type": "markdown",
      "metadata": {
        "id": "Gd2aBgBg9Mhw",
        "colab_type": "text"
      },
      "source": [
        "##### KNN"
      ]
    },
    {
      "cell_type": "code",
      "metadata": {
        "id": "0VbvcSmAMMDw",
        "colab_type": "code",
        "colab": {}
      },
      "source": [
        "from sklearn.neighbors import KNeighborsClassifier\n",
        "\n",
        "clf = KNeighborsClassifier()(weights='distance', algorithm='brute')\n",
        "params = dict(\n",
        "    n_neighbors=[6],\n",
        ")\n",
        "\n",
        "clf = RandomizedSearchCV(clf, params, cv=pdsplit, n_jobs=-1, verbose=1, n_iter=10, return_train_score=True)\n",
        "\n",
        "clf.fit(X['train_val'], y['train_val'])"
      ],
      "execution_count": null,
      "outputs": []
    },
    {
      "cell_type": "code",
      "metadata": {
        "id": "d8M5qEbBWGQA",
        "colab_type": "code",
        "colab": {
          "base_uri": "https://localhost:8080/",
          "height": 311
        },
        "outputId": "a95ddf82-ac74-488f-f268-e32f1e979ee7"
      },
      "source": [
        "clf.cv_results_"
      ],
      "execution_count": null,
      "outputs": [
        {
          "output_type": "execute_result",
          "data": {
            "text/plain": [
              "{'mean_fit_time': array([0.08313727]),\n",
              " 'mean_score_time': array([1.56857467]),\n",
              " 'mean_test_score': array([0.71504065]),\n",
              " 'mean_train_score': array([1.]),\n",
              " 'param_n_neighbors': masked_array(data=[6],\n",
              "              mask=[False],\n",
              "        fill_value='?',\n",
              "             dtype=object),\n",
              " 'params': [{'n_neighbors': 6}],\n",
              " 'rank_test_score': array([1], dtype=int32),\n",
              " 'split0_test_score': array([0.71504065]),\n",
              " 'split0_train_score': array([1.]),\n",
              " 'std_fit_time': array([0.]),\n",
              " 'std_score_time': array([0.]),\n",
              " 'std_test_score': array([0.]),\n",
              " 'std_train_score': array([0.])}"
            ]
          },
          "metadata": {
            "tags": []
          },
          "execution_count": 12
        }
      ]
    },
    {
      "cell_type": "code",
      "metadata": {
        "id": "Wn5dRMAVRz5I",
        "colab_type": "code",
        "colab": {
          "base_uri": "https://localhost:8080/",
          "height": 54
        },
        "outputId": "4492dbc9-99cb-4f20-b4e2-68bd5e3344f0"
      },
      "source": [
        "print(clf.cv_results_['mean_train_score'], clf.cv_results_['mean_test_score'])\n",
        "clf.score(X['test'], y['test'])"
      ],
      "execution_count": null,
      "outputs": [
        {
          "output_type": "stream",
          "text": [
            "[1.] [0.71504065]\n"
          ],
          "name": "stdout"
        },
        {
          "output_type": "execute_result",
          "data": {
            "text/plain": [
              "0.6772357723577236"
            ]
          },
          "metadata": {
            "tags": []
          },
          "execution_count": 13
        }
      ]
    },
    {
      "cell_type": "markdown",
      "metadata": {
        "id": "24x7kfWb9VBb",
        "colab_type": "text"
      },
      "source": [
        "##### Naive Bayes"
      ]
    },
    {
      "cell_type": "code",
      "metadata": {
        "id": "1NYQHu7B8gu3",
        "colab_type": "code",
        "colab": {
          "base_uri": "https://localhost:8080/",
          "height": 257
        },
        "outputId": "771b2a18-a691-4c99-bcc0-c1fa42505428"
      },
      "source": [
        "from sklearn.naive_bayes import GaussianNB\n",
        "\n",
        "clf = GaussianNB()\n",
        "\n",
        "params = dict(\n",
        "    \n",
        ")\n",
        "\n",
        "clf = RandomizedSearchCV(clf, params, cv=pdsplit, n_jobs=-1, verbose=1, n_iter=10, return_train_score=True)\n",
        "\n",
        "clf.fit(X['train_val'], y['train_val'])"
      ],
      "execution_count": null,
      "outputs": [
        {
          "output_type": "stream",
          "text": [
            "/usr/local/lib/python3.6/dist-packages/sklearn/model_selection/_search.py:281: UserWarning: The total space of parameters 1 is smaller than n_iter=10. Running 1 iterations. For exhaustive searches, use GridSearchCV.\n",
            "  % (grid_size, self.n_iter, grid_size), UserWarning)\n",
            "[Parallel(n_jobs=-1)]: Using backend LokyBackend with 2 concurrent workers.\n"
          ],
          "name": "stderr"
        },
        {
          "output_type": "stream",
          "text": [
            "Fitting 1 folds for each of 1 candidates, totalling 1 fits\n"
          ],
          "name": "stdout"
        },
        {
          "output_type": "stream",
          "text": [
            "[Parallel(n_jobs=-1)]: Done   1 out of   1 | elapsed:    2.9s finished\n"
          ],
          "name": "stderr"
        },
        {
          "output_type": "execute_result",
          "data": {
            "text/plain": [
              "RandomizedSearchCV(cv=PredefinedSplit(test_fold=array([-1, -1, ...,  0,  0])),\n",
              "                   error_score=nan,\n",
              "                   estimator=GaussianNB(priors=None, var_smoothing=1e-09),\n",
              "                   iid='deprecated', n_iter=10, n_jobs=-1,\n",
              "                   param_distributions={}, pre_dispatch='2*n_jobs',\n",
              "                   random_state=None, refit=True, return_train_score=True,\n",
              "                   scoring=None, verbose=1)"
            ]
          },
          "metadata": {
            "tags": []
          },
          "execution_count": 110
        }
      ]
    },
    {
      "cell_type": "code",
      "metadata": {
        "id": "m6hxswyIXcjm",
        "colab_type": "code",
        "colab": {
          "base_uri": "https://localhost:8080/",
          "height": 237
        },
        "outputId": "8239c5d1-c953-4c6c-e0a9-89f7e07730b8"
      },
      "source": [
        "clf.cv_results_"
      ],
      "execution_count": null,
      "outputs": [
        {
          "output_type": "execute_result",
          "data": {
            "text/plain": [
              "{'mean_fit_time': array([0.14860249]),\n",
              " 'mean_score_time': array([0.67531061]),\n",
              " 'mean_test_score': array([0.74552846]),\n",
              " 'mean_train_score': array([0.8597561]),\n",
              " 'params': [{}],\n",
              " 'rank_test_score': array([1], dtype=int32),\n",
              " 'split0_test_score': array([0.74552846]),\n",
              " 'split0_train_score': array([0.8597561]),\n",
              " 'std_fit_time': array([0.]),\n",
              " 'std_score_time': array([0.]),\n",
              " 'std_test_score': array([0.]),\n",
              " 'std_train_score': array([0.])}"
            ]
          },
          "metadata": {
            "tags": []
          },
          "execution_count": 111
        }
      ]
    },
    {
      "cell_type": "code",
      "metadata": {
        "id": "hJuUbOGVVN62",
        "colab_type": "code",
        "colab": {
          "base_uri": "https://localhost:8080/",
          "height": 54
        },
        "outputId": "9f97a6af-2c77-45d0-e07f-138e9189d6cf"
      },
      "source": [
        "print(clf.cv_results_['mean_train_score'], clf.cv_results_['mean_test_score'])\n",
        "clf.score(X['test'], y['test'])"
      ],
      "execution_count": null,
      "outputs": [
        {
          "output_type": "stream",
          "text": [
            "[0.8597561] [0.74552846]\n"
          ],
          "name": "stdout"
        },
        {
          "output_type": "execute_result",
          "data": {
            "text/plain": [
              "0.7117886178861789"
            ]
          },
          "metadata": {
            "tags": []
          },
          "execution_count": 112
        }
      ]
    },
    {
      "cell_type": "markdown",
      "metadata": {
        "id": "Gp99bXnU-S1j",
        "colab_type": "text"
      },
      "source": [
        "##### Decesion Tree"
      ]
    },
    {
      "cell_type": "code",
      "metadata": {
        "id": "dlZtIiDE9lCL",
        "colab_type": "code",
        "colab": {
          "base_uri": "https://localhost:8080/",
          "height": 496
        },
        "outputId": "ad0eb4bb-db49-4bdb-ea0d-ecd417540b5b"
      },
      "source": [
        "from sklearn.tree import DecisionTreeClassifier\n",
        "\n",
        "clf = DecisionTreeClassifier()\n",
        "\n",
        "params = dict(\n",
        "    max_depth=[650, 700, 750]\n",
        ")\n",
        "\n",
        "clf = RandomizedSearchCV(clf, params, cv=pdsplit, n_jobs=-1, verbose=2, n_iter=10, return_train_score=True)\n",
        "\n",
        "clf.fit(X['train_val'], y['train_val'])"
      ],
      "execution_count": null,
      "outputs": [
        {
          "output_type": "stream",
          "text": [
            "Fitting 1 folds for each of 3 candidates, totalling 3 fits\n"
          ],
          "name": "stdout"
        },
        {
          "output_type": "stream",
          "text": [
            "/usr/local/lib/python3.6/dist-packages/sklearn/model_selection/_search.py:281: UserWarning: The total space of parameters 3 is smaller than n_iter=10. Running 3 iterations. For exhaustive searches, use GridSearchCV.\n",
            "  % (grid_size, self.n_iter, grid_size), UserWarning)\n",
            "[Parallel(n_jobs=-1)]: Using backend LokyBackend with 2 concurrent workers.\n",
            "[Parallel(n_jobs=-1)]: Done   3 out of   3 | elapsed:   52.9s finished\n"
          ],
          "name": "stderr"
        },
        {
          "output_type": "execute_result",
          "data": {
            "text/plain": [
              "RandomizedSearchCV(cv=PredefinedSplit(test_fold=array([-1, -1, ...,  0,  0])),\n",
              "                   error_score=nan,\n",
              "                   estimator=DecisionTreeClassifier(ccp_alpha=0.0,\n",
              "                                                    class_weight=None,\n",
              "                                                    criterion='gini',\n",
              "                                                    max_depth=None,\n",
              "                                                    max_features=None,\n",
              "                                                    max_leaf_nodes=None,\n",
              "                                                    min_impurity_decrease=0.0,\n",
              "                                                    min_impurity_split=None,\n",
              "                                                    min_samples_leaf=1,\n",
              "                                                    min_samples_split=2,\n",
              "                                                    min_weight_fraction_leaf=0.0,\n",
              "                                                    presort='deprecated',\n",
              "                                                    random_state=None,\n",
              "                                                    splitter='best'),\n",
              "                   iid='deprecated', n_iter=10, n_jobs=-1,\n",
              "                   param_distributions={'max_depth': [650, 700, 750]},\n",
              "                   pre_dispatch='2*n_jobs', random_state=None, refit=True,\n",
              "                   return_train_score=True, scoring=None, verbose=2)"
            ]
          },
          "metadata": {
            "tags": []
          },
          "execution_count": 120
        }
      ]
    },
    {
      "cell_type": "code",
      "metadata": {
        "id": "EoUMG_l5YqB1",
        "colab_type": "code",
        "colab": {
          "base_uri": "https://localhost:8080/",
          "height": 311
        },
        "outputId": "ee4a53a6-21b6-4596-f6a6-3e12f3700761"
      },
      "source": [
        "clf.cv_results_"
      ],
      "execution_count": null,
      "outputs": [
        {
          "output_type": "execute_result",
          "data": {
            "text/plain": [
              "{'mean_fit_time': array([29.94455767, 29.94237924, 21.51351619]),\n",
              " 'mean_score_time': array([0.01946044, 0.01955152, 0.01169038]),\n",
              " 'mean_test_score': array([0.35731707, 0.36056911, 0.35650407]),\n",
              " 'mean_train_score': array([1., 1., 1.]),\n",
              " 'param_max_depth': masked_array(data=[650, 700, 750],\n",
              "              mask=[False, False, False],\n",
              "        fill_value='?',\n",
              "             dtype=object),\n",
              " 'params': [{'max_depth': 650}, {'max_depth': 700}, {'max_depth': 750}],\n",
              " 'rank_test_score': array([2, 1, 3], dtype=int32),\n",
              " 'split0_test_score': array([0.35731707, 0.36056911, 0.35650407]),\n",
              " 'split0_train_score': array([1., 1., 1.]),\n",
              " 'std_fit_time': array([0., 0., 0.]),\n",
              " 'std_score_time': array([0., 0., 0.]),\n",
              " 'std_test_score': array([0., 0., 0.]),\n",
              " 'std_train_score': array([0., 0., 0.])}"
            ]
          },
          "metadata": {
            "tags": []
          },
          "execution_count": 121
        }
      ]
    },
    {
      "cell_type": "code",
      "metadata": {
        "id": "VmhCnL91bVt7",
        "colab_type": "code",
        "colab": {
          "base_uri": "https://localhost:8080/",
          "height": 54
        },
        "outputId": "41a898dc-b3d6-4c5c-da6f-8489bc9e0ee1"
      },
      "source": [
        "print(clf.cv_results_['mean_train_score'], clf.cv_results_['mean_test_score'])\n",
        "clf.score(X['test'], y['test'])"
      ],
      "execution_count": null,
      "outputs": [
        {
          "output_type": "stream",
          "text": [
            "[1. 1. 1.] [0.35731707 0.36056911 0.35650407]\n"
          ],
          "name": "stdout"
        },
        {
          "output_type": "execute_result",
          "data": {
            "text/plain": [
              "0.3589430894308943"
            ]
          },
          "metadata": {
            "tags": []
          },
          "execution_count": 122
        }
      ]
    },
    {
      "cell_type": "markdown",
      "metadata": {
        "id": "OotZ_JVMcfTI",
        "colab_type": "text"
      },
      "source": [
        "##### Random Forest"
      ]
    },
    {
      "cell_type": "code",
      "metadata": {
        "colab_type": "code",
        "id": "NrHfY9-egzvK",
        "colab": {
          "base_uri": "https://localhost:8080/",
          "height": 588
        },
        "outputId": "7b74a21a-a21f-4102-fc38-8db019b5e37c"
      },
      "source": [
        "from sklearn.ensemble import RandomForestClassifier\n",
        "\n",
        "clf = RandomForestClassifier(max_depth=700)\n",
        "\n",
        "params = dict(\n",
        "    n_estimators=[250]\n",
        ")\n",
        "\n",
        "clf = RandomizedSearchCV(clf, params, cv=pdsplit, n_jobs=-1, verbose=2, n_iter=10, return_train_score=True)\n",
        "\n",
        "clf.fit(X['train_val'], y['train_val'])"
      ],
      "execution_count": null,
      "outputs": [
        {
          "output_type": "stream",
          "text": [
            "Fitting 1 folds for each of 1 candidates, totalling 1 fits\n"
          ],
          "name": "stdout"
        },
        {
          "output_type": "stream",
          "text": [
            "/usr/local/lib/python3.6/dist-packages/sklearn/model_selection/_search.py:281: UserWarning: The total space of parameters 1 is smaller than n_iter=10. Running 1 iterations. For exhaustive searches, use GridSearchCV.\n",
            "  % (grid_size, self.n_iter, grid_size), UserWarning)\n",
            "[Parallel(n_jobs=-1)]: Using backend LokyBackend with 2 concurrent workers.\n",
            "[Parallel(n_jobs=-1)]: Done   1 out of   1 | elapsed:  1.7min finished\n"
          ],
          "name": "stderr"
        },
        {
          "output_type": "execute_result",
          "data": {
            "text/plain": [
              "RandomizedSearchCV(cv=PredefinedSplit(test_fold=array([-1, -1, ...,  0,  0])),\n",
              "                   error_score=nan,\n",
              "                   estimator=RandomForestClassifier(bootstrap=True,\n",
              "                                                    ccp_alpha=0.0,\n",
              "                                                    class_weight=None,\n",
              "                                                    criterion='gini',\n",
              "                                                    max_depth=700,\n",
              "                                                    max_features='auto',\n",
              "                                                    max_leaf_nodes=None,\n",
              "                                                    max_samples=None,\n",
              "                                                    min_impurity_decrease=0.0,\n",
              "                                                    min_impurity_split=None,\n",
              "                                                    min_samples_leaf=1,\n",
              "                                                    min_samples_split=2,\n",
              "                                                    min_weight_fraction_leaf=0.0,\n",
              "                                                    n_estimators=100,\n",
              "                                                    n_jobs=None,\n",
              "                                                    oob_score=False,\n",
              "                                                    random_state=None,\n",
              "                                                    verbose=0,\n",
              "                                                    warm_start=False),\n",
              "                   iid='deprecated', n_iter=10, n_jobs=-1,\n",
              "                   param_distributions={'n_estimators': [250]},\n",
              "                   pre_dispatch='2*n_jobs', random_state=None, refit=True,\n",
              "                   return_train_score=True, scoring=None, verbose=2)"
            ]
          },
          "metadata": {
            "tags": []
          },
          "execution_count": 133
        }
      ]
    },
    {
      "cell_type": "code",
      "metadata": {
        "colab_type": "code",
        "id": "Hzl55I11gzvX",
        "colab": {
          "base_uri": "https://localhost:8080/",
          "height": 311
        },
        "outputId": "e40c3848-6ba6-4adf-8485-6e17e4b77c0a"
      },
      "source": [
        "clf.cv_results_ #0.75894309 0.76869919"
      ],
      "execution_count": null,
      "outputs": [
        {
          "output_type": "execute_result",
          "data": {
            "text/plain": [
              "{'mean_fit_time': array([98.05575132]),\n",
              " 'mean_score_time': array([0.37129831]),\n",
              " 'mean_test_score': array([0.76138211]),\n",
              " 'mean_train_score': array([1.]),\n",
              " 'param_n_estimators': masked_array(data=[250],\n",
              "              mask=[False],\n",
              "        fill_value='?',\n",
              "             dtype=object),\n",
              " 'params': [{'n_estimators': 250}],\n",
              " 'rank_test_score': array([1], dtype=int32),\n",
              " 'split0_test_score': array([0.76138211]),\n",
              " 'split0_train_score': array([1.]),\n",
              " 'std_fit_time': array([0.]),\n",
              " 'std_score_time': array([0.]),\n",
              " 'std_test_score': array([0.]),\n",
              " 'std_train_score': array([0.])}"
            ]
          },
          "metadata": {
            "tags": []
          },
          "execution_count": 134
        }
      ]
    },
    {
      "cell_type": "code",
      "metadata": {
        "colab_type": "code",
        "id": "7NkTPxhpgzvm",
        "colab": {
          "base_uri": "https://localhost:8080/",
          "height": 54
        },
        "outputId": "66dcb61e-3853-4f9f-ece9-0777c400ea2b"
      },
      "source": [
        "print(clf.cv_results_['mean_train_score'], clf.cv_results_['mean_test_score'])\n",
        "clf.score(X['test'], y['test'])"
      ],
      "execution_count": null,
      "outputs": [
        {
          "output_type": "stream",
          "text": [
            "[1.] [0.76138211]\n"
          ],
          "name": "stdout"
        },
        {
          "output_type": "execute_result",
          "data": {
            "text/plain": [
              "0.7439024390243902"
            ]
          },
          "metadata": {
            "tags": []
          },
          "execution_count": 135
        }
      ]
    },
    {
      "cell_type": "markdown",
      "metadata": {
        "id": "HtE0qqN7rgXo",
        "colab_type": "text"
      },
      "source": [
        "##### Logistic Regression"
      ]
    },
    {
      "cell_type": "code",
      "metadata": {
        "colab_type": "code",
        "id": "4Eg19a7ntqc3",
        "colab": {
          "base_uri": "https://localhost:8080/",
          "height": 386
        },
        "outputId": "5df50e95-5d03-4cc4-b69b-0a1ab7e48719"
      },
      "source": [
        "from sklearn.linear_model import LogisticRegression\n",
        "\n",
        "clf = LogisticRegression(max_iter=1500)\n",
        "\n",
        "params = dict(\n",
        "    C=[1e-5, 1e-6]\n",
        ")\n",
        "\n",
        "clf = RandomizedSearchCV(clf, params, cv=pdsplit, n_jobs=-1, verbose=2, n_iter=10, return_train_score=True)\n",
        "\n",
        "clf.fit(X['train_val'], y['train_val'])"
      ],
      "execution_count": null,
      "outputs": [
        {
          "output_type": "stream",
          "text": [
            "/usr/local/lib/python3.6/dist-packages/sklearn/model_selection/_search.py:281: UserWarning: The total space of parameters 2 is smaller than n_iter=10. Running 2 iterations. For exhaustive searches, use GridSearchCV.\n",
            "  % (grid_size, self.n_iter, grid_size), UserWarning)\n",
            "[Parallel(n_jobs=-1)]: Using backend LokyBackend with 2 concurrent workers.\n"
          ],
          "name": "stderr"
        },
        {
          "output_type": "stream",
          "text": [
            "Fitting 1 folds for each of 2 candidates, totalling 2 fits\n"
          ],
          "name": "stdout"
        },
        {
          "output_type": "stream",
          "text": [
            "[Parallel(n_jobs=-1)]: Done   2 out of   2 | elapsed:   32.5s finished\n"
          ],
          "name": "stderr"
        },
        {
          "output_type": "execute_result",
          "data": {
            "text/plain": [
              "RandomizedSearchCV(cv=PredefinedSplit(test_fold=array([-1, -1, ...,  0,  0])),\n",
              "                   error_score=nan,\n",
              "                   estimator=LogisticRegression(C=1.0, class_weight=None,\n",
              "                                                dual=False, fit_intercept=True,\n",
              "                                                intercept_scaling=1,\n",
              "                                                l1_ratio=None, max_iter=1500,\n",
              "                                                multi_class='auto', n_jobs=None,\n",
              "                                                penalty='l2', random_state=None,\n",
              "                                                solver='lbfgs', tol=0.0001,\n",
              "                                                verbose=0, warm_start=False),\n",
              "                   iid='deprecated', n_iter=10, n_jobs=-1,\n",
              "                   param_distributions={'C': [1e-05, 1e-06]},\n",
              "                   pre_dispatch='2*n_jobs', random_state=None, refit=True,\n",
              "                   return_train_score=True, scoring=None, verbose=2)"
            ]
          },
          "metadata": {
            "tags": []
          },
          "execution_count": 151
        }
      ]
    },
    {
      "cell_type": "code",
      "metadata": {
        "colab_type": "code",
        "id": "C8dZRdwutqdR",
        "colab": {
          "base_uri": "https://localhost:8080/",
          "height": 311
        },
        "outputId": "ecc37257-132b-4dee-89a9-014c2b7aa9f2"
      },
      "source": [
        "clf.cv_results_ # 0.74390244 0.96395664"
      ],
      "execution_count": null,
      "outputs": [
        {
          "output_type": "execute_result",
          "data": {
            "text/plain": [
              "{'mean_fit_time': array([32.28090525, 14.75960302]),\n",
              " 'mean_score_time': array([0.02417493, 0.03655481]),\n",
              " 'mean_test_score': array([0.74390244, 0.74390244]),\n",
              " 'mean_train_score': array([0.96395664, 0.8802168 ]),\n",
              " 'param_C': masked_array(data=[1e-05, 1e-06],\n",
              "              mask=[False, False],\n",
              "        fill_value='?',\n",
              "             dtype=object),\n",
              " 'params': [{'C': 1e-05}, {'C': 1e-06}],\n",
              " 'rank_test_score': array([1, 1], dtype=int32),\n",
              " 'split0_test_score': array([0.74390244, 0.74390244]),\n",
              " 'split0_train_score': array([0.96395664, 0.8802168 ]),\n",
              " 'std_fit_time': array([0., 0.]),\n",
              " 'std_score_time': array([0., 0.]),\n",
              " 'std_test_score': array([0., 0.]),\n",
              " 'std_train_score': array([0., 0.])}"
            ]
          },
          "metadata": {
            "tags": []
          },
          "execution_count": 152
        }
      ]
    },
    {
      "cell_type": "code",
      "metadata": {
        "colab_type": "code",
        "id": "Xrq9kNgctqde",
        "colab": {
          "base_uri": "https://localhost:8080/",
          "height": 54
        },
        "outputId": "127b86bb-4928-406b-ca48-f28178061f6a"
      },
      "source": [
        "print(clf.cv_results_['mean_train_score'], clf.cv_results_['mean_test_score'])\n",
        "clf.score(X['test'], y['test'])"
      ],
      "execution_count": null,
      "outputs": [
        {
          "output_type": "stream",
          "text": [
            "[0.96395664 0.8802168 ] [0.74390244 0.74390244]\n"
          ],
          "name": "stdout"
        },
        {
          "output_type": "execute_result",
          "data": {
            "text/plain": [
              "0.7577235772357723"
            ]
          },
          "metadata": {
            "tags": []
          },
          "execution_count": 153
        }
      ]
    },
    {
      "cell_type": "markdown",
      "metadata": {
        "id": "yTDxz0bd3JZZ",
        "colab_type": "text"
      },
      "source": [
        "# HMM"
      ]
    },
    {
      "cell_type": "code",
      "metadata": {
        "id": "EXUNmQmtB8ud",
        "colab_type": "code",
        "colab": {
          "base_uri": "https://localhost:8080/",
          "height": 202
        },
        "outputId": "86724e75-8c2a-4df1-b746-638ec7f1eb4f"
      },
      "source": [
        "!pip install hmmlearn"
      ],
      "execution_count": null,
      "outputs": [
        {
          "output_type": "stream",
          "text": [
            "Collecting hmmlearn\n",
            "\u001b[?25l  Downloading https://files.pythonhosted.org/packages/b3/49/9e9a89cee24b26ef6afec5abbd5eb9cf14632855f32b999389873ecb1b4e/hmmlearn-0.2.4-cp36-cp36m-manylinux1_x86_64.whl (361kB)\n",
            "\u001b[K     |████████████████████████████████| 368kB 3.4MB/s \n",
            "\u001b[?25hRequirement already satisfied: scipy>=0.19 in /usr/local/lib/python3.6/dist-packages (from hmmlearn) (1.4.1)\n",
            "Requirement already satisfied: scikit-learn>=0.16 in /usr/local/lib/python3.6/dist-packages (from hmmlearn) (0.22.2.post1)\n",
            "Requirement already satisfied: numpy>=1.10 in /usr/local/lib/python3.6/dist-packages (from hmmlearn) (1.18.5)\n",
            "Requirement already satisfied: joblib>=0.11 in /usr/local/lib/python3.6/dist-packages (from scikit-learn>=0.16->hmmlearn) (0.16.0)\n",
            "Installing collected packages: hmmlearn\n",
            "Successfully installed hmmlearn-0.2.4\n"
          ],
          "name": "stdout"
        }
      ]
    },
    {
      "cell_type": "code",
      "metadata": {
        "id": "pEwbDAKtDvNN",
        "colab_type": "code",
        "colab": {
          "base_uri": "https://localhost:8080/",
          "height": 90
        },
        "outputId": "6df879bc-d770-4629-c95b-1ff87eac7ef7"
      },
      "source": [
        "from hmmlearn import hmm\n",
        "from collections import defaultdict\n",
        "\n",
        "n_mfcc = 12\n",
        "dataset = {}\n",
        "\n",
        "for split in splits + ['train_val']:\n",
        "    dataset[split] = defaultdict(list)\n",
        "\n",
        "    num = 0\n",
        "    for (index, row), label in zip(X[split].iterrows(), y[split]):\n",
        "        feature = row.to_numpy()\n",
        "        feature = np.reshape(feature, (-1, n_mfcc))\n",
        "        # print(feature, feature.shape, label); input();\n",
        "        dataset[split][label].append(feature)\n",
        "        num += 1\n",
        "\n",
        "    print(split, num)"
      ],
      "execution_count": null,
      "outputs": [
        {
          "output_type": "stream",
          "text": [
            "train 7380\n",
            "val 2460\n",
            "test 2460\n",
            "train_val 9840\n"
          ],
          "name": "stdout"
        }
      ]
    },
    {
      "cell_type": "code",
      "metadata": {
        "id": "coLBtlnuxmjD",
        "colab_type": "code",
        "colab": {
          "base_uri": "https://localhost:8080/",
          "height": 90
        },
        "outputId": "79ac822a-03ad-488c-ee01-392a9be75644"
      },
      "source": [
        "# adapted from: https://github.com/wblgers/hmm_speech_recognition_demo/blob/master/demo.py\n",
        "from tqdm import tqdm\n",
        "\n",
        "def train_GMMHMM(states_num=5, dataset=dataset['train']):\n",
        "    GMMHMM_Models = {}\n",
        "\n",
        "    idx = 1;\n",
        "    for label in tqdm(dataset.keys()):\n",
        "        print('itr %02d | training on %s'%(idx, label))\n",
        "        idx += 1\n",
        "\n",
        "        model = hmm.GaussianHMM(n_components=states_num, \\\n",
        "                                covariance_type='diag', n_iter=100)\n",
        "        trainData = dataset[label]\n",
        "        length = np.zeros([len(trainData), ], dtype=np.int)\n",
        "        for m in range(len(trainData)):\n",
        "            length[m] = trainData[m].shape[0]\n",
        "        trainData = np.vstack(trainData)\n",
        "        model.fit(trainData, lengths=length)  # get optimal parameters\n",
        "        GMMHMM_Models[label] = model\n",
        "    return GMMHMM_Models\n",
        "\n",
        "hmmModels = train_GMMHMM()"
      ],
      "execution_count": null,
      "outputs": [
        {
          "output_type": "stream",
          "text": [
            "\r  0%|          | 0/41 [00:00<?, ?it/s]"
          ],
          "name": "stderr"
        },
        {
          "output_type": "stream",
          "text": [
            "itr 01 | training on backward\n"
          ],
          "name": "stdout"
        },
        {
          "output_type": "stream",
          "text": [
            "\r  2%|▏         | 1/41 [00:13<08:50, 13.27s/it]"
          ],
          "name": "stderr"
        },
        {
          "output_type": "stream",
          "text": [
            "itr 02 | training on cancel\n"
          ],
          "name": "stdout"
        },
        {
          "output_type": "stream",
          "text": [
            "\r  5%|▍         | 2/41 [00:18<07:05, 10.90s/it]"
          ],
          "name": "stderr"
        },
        {
          "output_type": "stream",
          "text": [
            "itr 03 | training on close\n"
          ],
          "name": "stdout"
        },
        {
          "output_type": "stream",
          "text": [
            "\r  7%|▋         | 3/41 [00:26<06:16,  9.91s/it]"
          ],
          "name": "stderr"
        },
        {
          "output_type": "stream",
          "text": [
            "itr 04 | training on digit\n"
          ],
          "name": "stdout"
        }
      ]
    },
    {
      "cell_type": "code",
      "metadata": {
        "id": "deT5BNK6xnDv",
        "colab_type": "code",
        "colab": {
          "base_uri": "https://localhost:8080/",
          "height": 788
        },
        "outputId": "f5a2dc0b-88cb-460c-9753-259962546a2f"
      },
      "source": [
        "def test_GMMHMM(hmmModels=hmmModels, testDataSet=dataset['test']):\n",
        "    score_cnt = 0\n",
        "    score_tot = 0\n",
        "    idx = 1\n",
        "    for label in testDataSet.keys():\n",
        "        score_cls = 0\n",
        "        features = testDataSet[label]\n",
        "        score_tot += len(features);\n",
        "        for feature in features:\n",
        "            scoreList = {}\n",
        "            for model_label in hmmModels.keys():\n",
        "                model = hmmModels[model_label]\n",
        "                score = model.score(feature)\n",
        "                scoreList[model_label] = score\n",
        "            predict = max(scoreList, key=scoreList.get)\n",
        "            # print(\"Test on true label \", label, \": predict result label is \", predict); input();\n",
        "            if predict == label: score_cls += 1\n",
        "        score_cnt += score_cls\n",
        "        print(\"itr %02d | %s accuracy: %d/%d = %.2f\"%(idx, label, score_cls, len(features), 100.0*score_cls/len(features)), \"%\")\n",
        "        idx += 1\n",
        "    print(\"accuracy: %d/%d = %.2f\"%(score_cnt, score_tot, 100.0*score_cnt/score_tot), \"%\")\n",
        "\n",
        "\n",
        "test_GMMHMM(hmmModels, dataset['test'])\n",
        "# test_GMMHMM(hmmModels, dataset['val'])\n",
        "# test_GMMHMM(hmmModels, dataset['train'])"
      ],
      "execution_count": null,
      "outputs": [
        {
          "output_type": "stream",
          "text": [
            "itr 01 | backward accuracy: 1/60 = 1.67 %\n",
            "itr 02 | cancel accuracy: 1/60 = 1.67 %\n",
            "itr 03 | close accuracy: 1/60 = 1.67 %\n",
            "itr 04 | digit accuracy: 1/60 = 1.67 %\n",
            "itr 05 | direction accuracy: 4/60 = 6.67 %\n",
            "itr 06 | disable accuracy: 21/60 = 35.00 %\n",
            "itr 07 | down accuracy: 32/60 = 53.33 %\n",
            "itr 08 | eight accuracy: 8/60 = 13.33 %\n",
            "itr 09 | enable accuracy: 0/60 = 0.00 %\n",
            "itr 10 | enter accuracy: 0/60 = 0.00 %\n",
            "itr 11 | five accuracy: 24/60 = 40.00 %\n",
            "itr 12 | forward accuracy: 8/60 = 13.33 %\n",
            "itr 13 | four accuracy: 3/60 = 5.00 %\n",
            "itr 14 | left accuracy: 7/60 = 11.67 %\n",
            "itr 15 | move accuracy: 1/60 = 1.67 %\n",
            "itr 16 | next accuracy: 0/60 = 0.00 %\n",
            "itr 17 | nine accuracy: 11/60 = 18.33 %\n",
            "itr 18 | no accuracy: 0/60 = 0.00 %\n",
            "itr 19 | ok accuracy: 7/60 = 11.67 %\n",
            "itr 20 | one accuracy: 26/60 = 43.33 %\n",
            "itr 21 | open accuracy: 2/60 = 3.33 %\n",
            "itr 22 | options accuracy: 1/60 = 1.67 %\n",
            "itr 23 | previous accuracy: 6/60 = 10.00 %\n",
            "itr 24 | receive accuracy: 0/60 = 0.00 %\n",
            "itr 25 | record accuracy: 5/60 = 8.33 %\n",
            "itr 26 | right accuracy: 32/60 = 53.33 %\n",
            "itr 27 | rotate accuracy: 2/60 = 3.33 %\n",
            "itr 28 | send accuracy: 3/60 = 5.00 %\n",
            "itr 29 | seven accuracy: 8/60 = 13.33 %\n",
            "itr 30 | six accuracy: 24/60 = 40.00 %\n",
            "itr 31 | start accuracy: 3/60 = 5.00 %\n",
            "itr 32 | stop accuracy: 26/60 = 43.33 %\n",
            "itr 33 | three accuracy: 18/60 = 30.00 %\n",
            "itr 34 | two accuracy: 5/60 = 8.33 %\n",
            "itr 35 | undo accuracy: 0/60 = 0.00 %\n",
            "itr 36 | up accuracy: 0/60 = 0.00 %\n",
            "itr 37 | yes accuracy: 7/60 = 11.67 %\n",
            "itr 38 | zero accuracy: 5/60 = 8.33 %\n",
            "itr 39 | zoom in accuracy: 3/60 = 5.00 %\n",
            "itr 40 | zoom out accuracy: 2/60 = 3.33 %\n",
            "itr 41 | silence accuracy: 22/60 = 36.67 %\n",
            "accuracy: 330/2460 = 13.41 %\n"
          ],
          "name": "stdout"
        }
      ]
    },
    {
      "cell_type": "code",
      "metadata": {
        "id": "Ao7gpXoq16O6",
        "colab_type": "code",
        "colab": {}
      },
      "source": [
        ""
      ],
      "execution_count": null,
      "outputs": []
    }
  ]
}